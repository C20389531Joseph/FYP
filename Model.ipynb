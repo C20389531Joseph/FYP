{
 "cells": [
  {
   "cell_type": "code",
   "execution_count": 5,
   "id": "56a119a7-2f86-461c-be22-71d284d3d419",
   "metadata": {},
   "outputs": [
    {
     "name": "stdout",
     "output_type": "stream",
     "text": [
      "hello World\n"
     ]
    }
   ],
   "source": [
    "print(\"hello World\")"
   ]
  },
  {
   "cell_type": "code",
   "execution_count": 17,
   "id": "06cfc507-3983-43ac-8bf4-bb2e8bf17e81",
   "metadata": {
    "scrolled": true
   },
   "outputs": [
    {
     "name": "stdout",
     "output_type": "stream",
     "text": [
      "Scores shape: (200, 4)\n",
      "Scores shape: (200, 4)\n",
      "Answers shape: (200, 500)\n",
      "Epoch 1/10\n",
      "\u001b[1m5/5\u001b[0m \u001b[32m━━━━━━━━━━━━━━━━━━━━\u001b[0m\u001b[37m\u001b[0m \u001b[1m6s\u001b[0m 449ms/step - loss: 7.4372 - mae: 2.4714 - val_loss: 6.7600 - val_mae: 2.3253\n",
      "Epoch 2/10\n",
      "\u001b[1m5/5\u001b[0m \u001b[32m━━━━━━━━━━━━━━━━━━━━\u001b[0m\u001b[37m\u001b[0m \u001b[1m1s\u001b[0m 301ms/step - loss: 6.1578 - mae: 2.2006 - val_loss: 3.8461 - val_mae: 1.5997\n",
      "Epoch 3/10\n",
      "\u001b[1m5/5\u001b[0m \u001b[32m━━━━━━━━━━━━━━━━━━━━\u001b[0m\u001b[37m\u001b[0m \u001b[1m2s\u001b[0m 307ms/step - loss: 2.8101 - mae: 1.3626 - val_loss: 1.6010 - val_mae: 1.0395\n",
      "Epoch 4/10\n",
      "\u001b[1m5/5\u001b[0m \u001b[32m━━━━━━━━━━━━━━━━━━━━\u001b[0m\u001b[37m\u001b[0m \u001b[1m1s\u001b[0m 297ms/step - loss: 1.5662 - mae: 1.0294 - val_loss: 1.5399 - val_mae: 1.0296\n",
      "Epoch 5/10\n",
      "\u001b[1m5/5\u001b[0m \u001b[32m━━━━━━━━━━━━━━━━━━━━\u001b[0m\u001b[37m\u001b[0m \u001b[1m1s\u001b[0m 303ms/step - loss: 1.3640 - mae: 0.9999 - val_loss: 1.4286 - val_mae: 1.0447\n",
      "Epoch 6/10\n",
      "\u001b[1m5/5\u001b[0m \u001b[32m━━━━━━━━━━━━━━━━━━━━\u001b[0m\u001b[37m\u001b[0m \u001b[1m1s\u001b[0m 299ms/step - loss: 1.4156 - mae: 1.0264 - val_loss: 1.3936 - val_mae: 1.0423\n",
      "Epoch 7/10\n",
      "\u001b[1m5/5\u001b[0m \u001b[32m━━━━━━━━━━━━━━━━━━━━\u001b[0m\u001b[37m\u001b[0m \u001b[1m2s\u001b[0m 333ms/step - loss: 1.3334 - mae: 1.0156 - val_loss: 1.3908 - val_mae: 1.0359\n",
      "Epoch 8/10\n",
      "\u001b[1m5/5\u001b[0m \u001b[32m━━━━━━━━━━━━━━━━━━━━\u001b[0m\u001b[37m\u001b[0m \u001b[1m2s\u001b[0m 310ms/step - loss: 1.3638 - mae: 1.0217 - val_loss: 1.3943 - val_mae: 1.0353\n",
      "Epoch 9/10\n",
      "\u001b[1m5/5\u001b[0m \u001b[32m━━━━━━━━━━━━━━━━━━━━\u001b[0m\u001b[37m\u001b[0m \u001b[1m1s\u001b[0m 294ms/step - loss: 1.2937 - mae: 0.9980 - val_loss: 1.3752 - val_mae: 1.0386\n",
      "Epoch 10/10\n",
      "\u001b[1m5/5\u001b[0m \u001b[32m━━━━━━━━━━━━━━━━━━━━\u001b[0m\u001b[37m\u001b[0m \u001b[1m1s\u001b[0m 294ms/step - loss: 1.3394 - mae: 1.0210 - val_loss: 1.3787 - val_mae: 1.0398\n"
     ]
    },
    {
     "name": "stderr",
     "output_type": "stream",
     "text": [
      "WARNING:absl:You are saving your model as an HDF5 file via `model.save()` or `keras.saving.save_model(model)`. This file format is considered legacy. We recommend using instead the native Keras format, e.g. `model.save('my_model.keras')` or `keras.saving.save_model(model, 'my_model.keras')`. \n"
     ]
    },
    {
     "name": "stdout",
     "output_type": "stream",
     "text": [
      "Model trained and saved successfully!\n"
     ]
    }
   ],
   "source": [
    "import os\n",
    "import docx\n",
    "import tensorflow as tf\n",
    "from tensorflow.keras.models import Sequential\n",
    "from tensorflow.keras.layers import Embedding, LSTM, Dense, Dropout, Bidirectional\n",
    "from sklearn.model_selection import train_test_split\n",
    "import numpy as np\n",
    "\n",
    "Size = 10\n",
    "# Function to load answers from Word documents\n",
    "def load_answers_from_docs(doc_files):\n",
    "    questions = []\n",
    "    answers = []\n",
    "    scores = []\n",
    "    \n",
    "    for doc_file in doc_files:\n",
    "        doc = docx.Document(doc_file)\n",
    "        for paragraph in doc.paragraphs:\n",
    "            if paragraph.text.startswith(\"Q\"):  # Assume question text starts with \"Q\"\n",
    "                questions.append(paragraph.text)\n",
    "            elif paragraph.text.startswith(\"A\"):  # Assume answer text starts with \"A\"\n",
    "                answers.append(paragraph.text[2:].strip())  # Skip \"A:\"\n",
    "            elif paragraph.text.startswith(\"Score\"):  # Assume score starts with \"Score:\"\n",
    "                scores.append([float(x) for x in paragraph.text.split(\":\")[1].strip().split(\",\")])\n",
    "    \n",
    "    return questions, answers, scores\n",
    "\n",
    "# Load dataset\n",
    "doc_files = [\"Paper1.docx\", \"Paper2.docx\", \"Paper3.docx\", \"Paper4.docx\", \"Paper5.docx\", \"Paper6.docx\", \"Paper7.docx\", \"Paper8.docx\", \"Paper9.docx\", \"Paper10.docx\"]\n",
    "questions, answers, scores = load_answers_from_docs(doc_files)\n",
    "\n",
    "# Preprocess text: Tokenization and padding\n",
    "tokenizer = tf.keras.preprocessing.text.Tokenizer()\n",
    "tokenizer.fit_on_texts(answers)\n",
    "answers_seq = tokenizer.texts_to_sequences(answers)\n",
    "answers_pad = tf.keras.preprocessing.sequence.pad_sequences(answers_seq, maxlen=500)\n",
    "\n",
    "# Convert scores to NumPy array for model compatibility\n",
    "max_categories = 4\n",
    "padded_scores = []\n",
    "\n",
    "for score in scores:\n",
    "    # Pad with zeros or NaNs if the score list is shorter than max_categories\n",
    "    if len(score) < max_categories:\n",
    "        score += [0] * (max_categories - len(score))  # Padding with zeros\n",
    "    padded_scores.append(score)\n",
    "\n",
    "# Convert to numpy array\n",
    "scores = np.array(padded_scores)\n",
    "print(\"Scores shape:\", scores.shape)\n",
    "print(\"Scores shape:\", scores.shape)\n",
    "print(\"Answers shape:\", answers_pad.shape)\n",
    "\n",
    "# Train-test split\n",
    "X_train, X_test, y_train, y_test = train_test_split(answers_pad, scores, test_size=0.2, random_state=42)\n",
    "\n",
    "# Define the model\n",
    "model = Sequential([\n",
    "    Embedding(input_dim=len(tokenizer.word_index) + 1, output_dim=128, input_length=500),\n",
    "    Bidirectional(LSTM(64, return_sequences=True)),\n",
    "    Dropout(0.5),\n",
    "    LSTM(32),\n",
    "    Dense(64, activation='relu'),\n",
    "    Dense(1, activation='linear')  # Output matches the rubric categories\n",
    "])\n",
    "\n",
    "# Compile the model\n",
    "model.compile(optimizer='adam', loss='mean_squared_error', metrics=['mae'])\n",
    "\n",
    "# Train the model\n",
    "model.fit(X_train, y_train, validation_data=(X_test, y_test), epochs=10, batch_size=32)\n",
    "\n",
    "# Save the model\n",
    "model.save(\"essay_grading_model.h5\")\n",
    "\n",
    "print(\"Model trained and saved successfully!\")\n"
   ]
  },
  {
   "cell_type": "code",
   "execution_count": null,
   "id": "d5cb7cb6-1910-4abc-8ccd-59d2ec4ac2fb",
   "metadata": {},
   "outputs": [],
   "source": []
  }
 ],
 "metadata": {
  "kernelspec": {
   "display_name": "Python 3 (ipykernel)",
   "language": "python",
   "name": "python3"
  },
  "language_info": {
   "codemirror_mode": {
    "name": "ipython",
    "version": 3
   },
   "file_extension": ".py",
   "mimetype": "text/x-python",
   "name": "python",
   "nbconvert_exporter": "python",
   "pygments_lexer": "ipython3",
   "version": "3.11.9"
  }
 },
 "nbformat": 4,
 "nbformat_minor": 5
}
